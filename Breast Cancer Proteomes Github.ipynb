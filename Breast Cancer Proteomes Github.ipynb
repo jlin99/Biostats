{
 "cells": [
  {
   "cell_type": "code",
   "execution_count": 12,
   "metadata": {},
   "outputs": [],
   "source": [
    "import warnings\n",
    "warnings.filterwarnings(\"ignore\")\n",
    "\n",
    "#Importing the Data\n",
    "import pandas as pd\n",
    "import re\n",
    "import csv\n",
    "from sklearn.model_selection import train_test_split\n",
    "data = pd.read_csv(\"data/77_cancer_proteomes_CPTAC_itraq.csv\",header=0,index_col=0)\n",
    "clinical = pd.read_csv(\"data/clinical_data_breast_cancer.csv\",header=0,index_col=0)\n",
    "#Manipulation\n",
    "clinical.columns = [c.replace(' ', '_') for c in clinical.columns]\n",
    "data.columns = [c.replace(' ', '_') for c in data.columns]\n",
    "\n",
    "clinical.rename(columns = {'Tumor--T1_Coded':'T1_Coded'}, inplace = True)\n",
    "clinical.rename(columns = {'Node-Coded':'Node_Coded'}, inplace = True)\n",
    "clinical.rename(columns = {'Metastasis-Coded':'Metastasis_Coded'}, inplace = True)\n",
    "clinical.rename(columns = {'Integrated_Clusters_(with_PAM50)':'Integrated_Clusters_with_PAM50'}, inplace = True)\n",
    "clinical.rename(columns = {'Integrated_Clusters_(no_exp)':'Integrated_Clusters_no_exp'}, inplace = True)\n",
    "clinical.rename(columns = {'Integrated_Clusters_(unsup_exp)':'Integrated_Clusters_unsup_exp'}, inplace = True)\n",
    "\n",
    "clinical.Gender[clinical.Gender == 'MALE'] = 0\n",
    "clinical.Gender[clinical.Gender == 'FEMALE'] = 1\n",
    "\n",
    "clinical.ER_Status[clinical.ER_Status == 'Positive'] = 1\n",
    "clinical.ER_Status[clinical.ER_Status == 'Negative'] = 0\n",
    "\n",
    "clinical.PR_Status[clinical.PR_Status == 'Positive'] = 1\n",
    "clinical.PR_Status[clinical.PR_Status == 'Negative'] = 0\n",
    "\n",
    "clinical.HER2_Final_Status[clinical.HER2_Final_Status == 'Positive'] = 1\n",
    "clinical.HER2_Final_Status[clinical.HER2_Final_Status == 'Negative'] = 0\n",
    "\n",
    "clinical.Tumor[clinical.Tumor == 'T1'] = 1\n",
    "clinical.Tumor[clinical.Tumor == 'T2'] = 2\n",
    "clinical.Tumor[clinical.Tumor == 'T3'] = 3\n",
    "clinical.Tumor[clinical.Tumor == 'T4'] = 4\n",
    "\n",
    "clinical.T1_Coded[clinical.T1_Coded == 'T1'] = 1\n",
    "clinical.T1_Coded[clinical.T1_Coded == 'T_Other'] = 0\n",
    "\n",
    "clinical.Node[clinical.Node == 'N0'] = 0\n",
    "clinical.Node[clinical.Node == 'N1'] = 1\n",
    "clinical.Node[clinical.Node == 'N2'] = 2\n",
    "clinical.Node[clinical.Node == 'N3'] = 3\n",
    "\n",
    "clinical.Node_Coded[clinical.Node_Coded == 'Positive'] = 1\n",
    "clinical.Node_Coded[clinical.Node_Coded == 'Negative'] = 0\n",
    "\n",
    "clinical.Metastasis[clinical.Metastasis == 'M0'] = 0\n",
    "clinical.Metastasis[clinical.Metastasis == 'M1'] = 1\n",
    "clinical.Metastasis_Coded[clinical.Metastasis_Coded == 'Positive'] = 1\n",
    "clinical.Metastasis_Coded[clinical.Metastasis_Coded == 'Negative'] = 0\n",
    "\n",
    "clinical.AJCC_Stage[clinical.AJCC_Stage == 'Stage I'] = 1\n",
    "clinical.AJCC_Stage[clinical.AJCC_Stage == 'Stage IA'] = 11\n",
    "clinical.AJCC_Stage[clinical.AJCC_Stage == 'Stage IB'] = 12\n",
    "clinical.AJCC_Stage[clinical.AJCC_Stage == 'Stage II'] = 2\n",
    "clinical.AJCC_Stage[clinical.AJCC_Stage == 'Stage IIA'] = 21\n",
    "clinical.AJCC_Stage[clinical.AJCC_Stage == 'Stage IIB'] = 22\n",
    "clinical.AJCC_Stage[clinical.AJCC_Stage == 'Stage III'] = 3\n",
    "clinical.AJCC_Stage[clinical.AJCC_Stage == 'Stage IIIA'] = 31\n",
    "clinical.AJCC_Stage[clinical.AJCC_Stage == 'Stage IIIB'] = 32\n",
    "clinical.AJCC_Stage[clinical.AJCC_Stage == 'Stage IIIC'] = 33\n",
    "clinical.AJCC_Stage[clinical.AJCC_Stage == 'Stage IV'] = 4\n",
    "\n",
    "clinical.Converted_Stage[clinical.Converted_Stage == 'No_Conversion'] = 0\n",
    "clinical.Converted_Stage[clinical.Converted_Stage == 'Stage I'] = 1\n",
    "clinical.Converted_Stage[clinical.Converted_Stage == 'Stage IIA'] = 21\n",
    "clinical.Converted_Stage[clinical.Converted_Stage == 'Stage IIB'] = 22\n",
    "clinical.Converted_Stage[clinical.Converted_Stage == 'Stage IIIA'] = 31\n",
    "clinical.Converted_Stage[clinical.Converted_Stage == 'Stage IIIB'] = 32\n",
    "clinical.Converted_Stage[clinical.Converted_Stage == 'Stage IIIC'] = 33\n",
    "\n",
    "clinical.Survival_Data_Form[clinical.Survival_Data_Form == 'enrollment'] = 1\n",
    "clinical.Survival_Data_Form[clinical.Survival_Data_Form == 'followup'] = 1\n",
    "\n",
    "clinical.Vital_Status[clinical.Vital_Status == 'LIVING'] = 0\n",
    "clinical.Vital_Status[clinical.Vital_Status == 'DECEASED'] = 1\n",
    "\n",
    "clinical.PAM50_mRNA[clinical.PAM50_mRNA == 'Luminal A'] = 1\n",
    "clinical.PAM50_mRNA[clinical.PAM50_mRNA == 'Luminal B'] = 2\n",
    "clinical.PAM50_mRNA[clinical.PAM50_mRNA == 'Basal-like'] = 3\n",
    "clinical.PAM50_mRNA[clinical.PAM50_mRNA == 'HER2-enriched'] = 4\n",
    "\n",
    "clinical.RPPA_Clusters[clinical.RPPA_Clusters == 'Basal'] = 1\n",
    "clinical.RPPA_Clusters[clinical.RPPA_Clusters == 'LumA/B'] = 2\n",
    "clinical.RPPA_Clusters[clinical.RPPA_Clusters == 'Her2'] = 3\n",
    "clinical.RPPA_Clusters[clinical.RPPA_Clusters == 'ReacI'] = 4\n",
    "clinical.RPPA_Clusters[clinical.RPPA_Clusters == 'ReacII'] = 5\n",
    "clinical.RPPA_Clusters[clinical.RPPA_Clusters == 'LumA'] = 6\n",
    "clinical.RPPA_Clusters[clinical.RPPA_Clusters == 'X'] = 7\n",
    "\n",
    "#for col in clinical.columns: \n",
    "    #print(col)"
   ]
  },
  {
   "cell_type": "code",
   "execution_count": 2,
   "metadata": {},
   "outputs": [],
   "source": [
    "#import pip\n",
    "#pip.main(['install', 'scikit-multilearn'])"
   ]
  },
  {
   "cell_type": "code",
   "execution_count": 13,
   "metadata": {},
   "outputs": [
    {
     "name": "stdout",
     "output_type": "stream",
     "text": [
      "(80, 12582)\n"
     ]
    }
   ],
   "source": [
    "## Change the protein data sample names to a format matching the clinical data set\n",
    "data.rename(columns=lambda x: \"TCGA-%s\" % (re.split('[_|-|.]',x)[0]) if bool(re.search(\"TCGA\",x)) is True else x,inplace=True)\n",
    " \n",
    "## Transpose data for the clustering algorithm since we want to divide patient samples, not proteins\n",
    "data = data.transpose()\n",
    " \n",
    "## Drop clinical entries for samples not in our protein data set\n",
    "clinical = clinical.loc[[x for x in clinical.index.tolist() if x in data.index],:]\n",
    " \n",
    "## Add clinical meta data to our protein data set, note: all numerical features for analysis start with NP_ or XP_\n",
    "merged = data.merge(clinical,left_index=True,right_index=True)\n",
    "\n",
    "print(merged.shape)"
   ]
  },
  {
   "cell_type": "code",
   "execution_count": 41,
   "metadata": {},
   "outputs": [
    {
     "data": {
      "text/plain": [
       "(79, 8045)"
      ]
     },
     "execution_count": 41,
     "metadata": {},
     "output_type": "execute_result"
    }
   ],
   "source": [
    "#Lots of NaN values so drop columns instead of rows because otherwise we would end up with 0 rows\n",
    "merged = merged.dropna(axis='columns')\n",
    "merged.shape"
   ]
  },
  {
   "cell_type": "code",
   "execution_count": 43,
   "metadata": {},
   "outputs": [
    {
     "data": {
      "text/plain": [
       "ER_Status  PR_Status  HER2_Final_Status\n",
       "0          0          0                    19\n",
       "                      1                     7\n",
       "1          0          0                     6\n",
       "                      1                     4\n",
       "           1          0                    35\n",
       "                      1                     8\n",
       "dtype: int64"
      ]
     },
     "execution_count": 43,
     "metadata": {},
     "output_type": "execute_result"
    }
   ],
   "source": [
    "#Subsetting the equivocal data and looking at variable counts once again\n",
    "merged = merged[merged[\"HER2_Final_Status\"] != \"Equivocal\"]\n",
    "merged.groupby([\"ER_Status\", \"PR_Status\", \"HER2_Final_Status\"]).size()"
   ]
  },
  {
   "cell_type": "code",
   "execution_count": 67,
   "metadata": {},
   "outputs": [
    {
     "data": {
      "text/plain": [
       "(63, 8042)"
      ]
     },
     "execution_count": 67,
     "metadata": {},
     "output_type": "execute_result"
    }
   ],
   "source": [
    "y_col = [\"ER_Status\",\"PR_Status\",\"HER2_Final_Status\"]\n",
    "y = merged[y_col]\n",
    "X = merged.drop(y_col, axis=1)\n",
    "x_train, x_test, y_train, y_test = train_test_split(X, y, test_size=0.2, random_state=0)\n",
    "\n",
    "x_train.shape\n"
   ]
  },
  {
   "cell_type": "code",
   "execution_count": null,
   "metadata": {
    "scrolled": true
   },
   "outputs": [],
   "source": []
  },
  {
   "cell_type": "code",
   "execution_count": null,
   "metadata": {},
   "outputs": [],
   "source": []
  },
  {
   "cell_type": "code",
   "execution_count": null,
   "metadata": {},
   "outputs": [],
   "source": []
  },
  {
   "cell_type": "code",
   "execution_count": 42,
   "metadata": {},
   "outputs": [
    {
     "data": {
      "text/plain": [
       "False"
      ]
     },
     "execution_count": 42,
     "metadata": {},
     "output_type": "execute_result"
    }
   ],
   "source": [
    "merged.isnull().values.any()"
   ]
  },
  {
   "cell_type": "code",
   "execution_count": 86,
   "metadata": {},
   "outputs": [
    {
     "name": "stdout",
     "output_type": "stream",
     "text": [
      "[0.375, 0.4375, 0.375, 0.4375, 0.3125, 0.5, 0.375, 0.375, 0.375, 0.375, 0.375, 0.375, 0.375, 0.3125, 0.3125, 0.375, 0.375, 0.375, 0.375, 0.375, 0.375, 0.3125, 0.375, 0.375, 0.375, 0.3125, 0.3125, 0.3125, 0.3125, 0.3125, 0.3125, 0.3125, 0.3125, 0.3125, 0.375, 0.3125, 0.3125, 0.3125, 0.3125, 0.375, 0.375, 0.375, 0.375, 0.375, 0.375, 0.375, 0.375, 0.375, 0.375]\n"
     ]
    }
   ],
   "source": [
    "from skmultilearn.adapt import MLkNN\n",
    "from scipy.sparse import csr_matrix, lil_matrix\n",
    "from sklearn.metrics import accuracy_score\n",
    "\n",
    "#Find optimal k\n",
    "k_values = list(range(1,50))\n",
    "k_accuracy = []\n",
    "\n",
    "x_train = x_train.astype(float).round(6)\n",
    "y_train = y_train.astype(float).round(6)\n",
    "x_test = x_test.astype(float).round(6)\n",
    "y_test = y_test.astype(float).round(6)\n",
    "\n",
    "# Note that this classifier can throw up errors when handling sparse matrices.\n",
    "x_train = lil_matrix(x_train).toarray()\n",
    "y_train = lil_matrix(y_train).toarray()\n",
    "x_test = lil_matrix(x_test).toarray()\n",
    "\n",
    "for i in k_values:\n",
    "    n_neighbors = i\n",
    "    classifier_new = MLkNN(n_neighbors)\n",
    "    classifier_new.fit(x_train, y_train)\n",
    "    predictions_new = classifier_new.predict(x_test)\n",
    "    score = accuracy_score(y_test,predictions_new)\n",
    "    k_accuracy.append(score)\n",
    "\n",
    "print(k_accuracy)"
   ]
  },
  {
   "cell_type": "code",
   "execution_count": null,
   "metadata": {},
   "outputs": [],
   "source": []
  },
  {
   "cell_type": "code",
   "execution_count": null,
   "metadata": {},
   "outputs": [],
   "source": []
  },
  {
   "cell_type": "code",
   "execution_count": null,
   "metadata": {},
   "outputs": [],
   "source": []
  }
 ],
 "metadata": {
  "kernelspec": {
   "display_name": "Python 3",
   "language": "python",
   "name": "python3"
  },
  "language_info": {
   "codemirror_mode": {
    "name": "ipython",
    "version": 3
   },
   "file_extension": ".py",
   "mimetype": "text/x-python",
   "name": "python",
   "nbconvert_exporter": "python",
   "pygments_lexer": "ipython3",
   "version": "3.7.6"
  }
 },
 "nbformat": 4,
 "nbformat_minor": 4
}
