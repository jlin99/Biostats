{
 "cells": [
  {
   "cell_type": "code",
   "execution_count": 2,
   "metadata": {},
   "outputs": [],
   "source": [
    "import numpy as np\n",
    "import pandas\n",
    "from sklearn.model_selection import train_test_split\n",
    "import matplotlib.pyplot as plt"
   ]
  },
  {
   "cell_type": "code",
   "execution_count": 4,
   "metadata": {},
   "outputs": [],
   "source": [
    "df = pandas.read_csv('data/heart.csv')"
   ]
  },
  {
   "cell_type": "code",
   "execution_count": 6,
   "metadata": {},
   "outputs": [
    {
     "name": "stdout",
     "output_type": "stream",
     "text": [
      "     age  sex  cp  trestbps  chol  fbs  restecg  thalach  exang  oldpeak  \\\n",
      "0     63    1   3       145   233    1        0      150      0      2.3   \n",
      "1     37    1   2       130   250    0        1      187      0      3.5   \n",
      "2     41    0   1       130   204    0        0      172      0      1.4   \n",
      "3     56    1   1       120   236    0        1      178      0      0.8   \n",
      "4     57    0   0       120   354    0        1      163      1      0.6   \n",
      "..   ...  ...  ..       ...   ...  ...      ...      ...    ...      ...   \n",
      "298   57    0   0       140   241    0        1      123      1      0.2   \n",
      "299   45    1   3       110   264    0        1      132      0      1.2   \n",
      "300   68    1   0       144   193    1        1      141      0      3.4   \n",
      "301   57    1   0       130   131    0        1      115      1      1.2   \n",
      "302   57    0   1       130   236    0        0      174      0      0.0   \n",
      "\n",
      "     slope  ca  thal  target  \n",
      "0        0   0     1       1  \n",
      "1        0   0     2       1  \n",
      "2        2   0     2       1  \n",
      "3        2   0     2       1  \n",
      "4        2   0     2       1  \n",
      "..     ...  ..   ...     ...  \n",
      "298      1   0     3       0  \n",
      "299      1   0     3       0  \n",
      "300      1   2     3       0  \n",
      "301      1   1     3       0  \n",
      "302      1   1     2       0  \n",
      "\n",
      "[303 rows x 14 columns]\n"
     ]
    }
   ],
   "source": [
    "print(df)"
   ]
  },
  {
   "cell_type": "code",
   "execution_count": 57,
   "metadata": {},
   "outputs": [
    {
     "name": "stdout",
     "output_type": "stream",
     "text": [
      "0.5445544554455446\n"
     ]
    }
   ],
   "source": [
    "target_percent = sum(df['target'])/303\n",
    "print(target_percent)\n",
    "#We want to make sure our classifier outperforms this percentage by a significant amount"
   ]
  },
  {
   "cell_type": "code",
   "execution_count": 5,
   "metadata": {},
   "outputs": [],
   "source": [
    "train, test = train_test_split(df, test_size=0.2)\n",
    "\n",
    "y_train = train.iloc[:,13]\n",
    "x_train = train.iloc[:,0:12]\n",
    "\n",
    "y_test = test.iloc[:,13]\n",
    "x_test = test.iloc[:,0:12]"
   ]
  },
  {
   "cell_type": "code",
   "execution_count": 13,
   "metadata": {},
   "outputs": [
    {
     "name": "stdout",
     "output_type": "stream",
     "text": [
      "0:00:00.033975\n",
      "Prediction error: 0.197\n",
      "Prediction accuracy: 0.803\n"
     ]
    }
   ],
   "source": [
    "#Naive Bayes\n",
    "from sklearn.naive_bayes import GaussianNB\n",
    "\n",
    "gnb = GaussianNB()\n",
    "\n",
    "import time\n",
    "from datetime import timedelta\n",
    "\n",
    "start_time = time.monotonic()\n",
    "gnb.fit(x_train, y_train)\n",
    "end_time = time.monotonic()\n",
    "print(timedelta(seconds=end_time - start_time))\n",
    "\n",
    "y_pred = gnb.predict(x_test)\n",
    "y_delta = abs(y_test - y_pred)\n",
    "pred_error = np.sum(y_delta)/y_delta.size\n",
    "print(\"Prediction error:\", round(pred_error, 3))\n",
    "pred_accuracy = 1 - pred_error\n",
    "print(\"Prediction accuracy:\", round(pred_accuracy, 3))"
   ]
  },
  {
   "cell_type": "code",
   "execution_count": 7,
   "metadata": {
    "scrolled": false
   },
   "outputs": [],
   "source": [
    "#k nearest neighbors\n",
    "from sklearn import neighbors\n",
    "\n",
    "#Find optimal k\n",
    "k_values = list(range(1,50))\n",
    "k_accuracy = []\n",
    "\n",
    "for i in k_values:\n",
    "    n_neighbors = i\n",
    "    knn = neighbors.KNeighborsClassifier(n_neighbors)\n",
    "    knn.fit(x_train, y_train)\n",
    "    y_pred = knn.predict(x_test)\n",
    "    y_delta = abs(y_test - y_pred)\n",
    "    pred_error = np.sum(y_delta)/y_delta.size\n",
    "    pred_accuracy = 1 - pred_error\n",
    "    k_accuracy.append(pred_accuracy)"
   ]
  },
  {
   "cell_type": "code",
   "execution_count": 9,
   "metadata": {},
   "outputs": [
    {
     "name": "stdout",
     "output_type": "stream",
     "text": [
      "29\n"
     ]
    },
    {
     "data": {
      "image/png": "[encoded data removed]",
      "text/plain": [
       "<Figure size 432x288 with 1 Axes>"
      ]
     },
     "metadata": {
      "needs_background": "light"
     },
     "output_type": "display_data"
    }
   ],
   "source": [
    "plt.plot(k_values, k_accuracy)\n",
    "\n",
    "k_dic = {} \n",
    "for key in k_values: \n",
    "    for value in k_accuracy: \n",
    "        k_dic[key] = value \n",
    "        k_accuracy.remove(value)\n",
    "        break\n",
    "        \n",
    "max_key = max(k_dic, key=k_dic.get)\n",
    "print(max_key)"
   ]
  },
  {
   "cell_type": "code",
   "execution_count": 10,
   "metadata": {},
   "outputs": [
    {
     "name": "stdout",
     "output_type": "stream",
     "text": [
      "0:00:00.003528\n",
      "Prediction error: 0.295\n",
      "Prediction accuracy: 0.705\n"
     ]
    }
   ],
   "source": [
    "#From above, we determined the best accuracy rate is when k=24\n",
    "n_neighbors = max_key\n",
    "\n",
    "knn = neighbors.KNeighborsClassifier(n_neighbors)\n",
    "\n",
    "import time\n",
    "from datetime import timedelta\n",
    "\n",
    "start_time = time.monotonic()\n",
    "knn.fit(x_train, y_train)\n",
    "end_time = time.monotonic()\n",
    "print(timedelta(seconds=end_time - start_time))\n",
    "\n",
    "y_pred = knn.predict(x_test)\n",
    "y_delta = abs(y_test - y_pred)\n",
    "pred_error = np.sum(y_delta)/y_delta.size\n",
    "print(\"Prediction error:\", round(pred_error, 3))\n",
    "pred_accuracy = 1 - pred_error\n",
    "print(\"Prediction accuracy:\", round(pred_accuracy, 3))"
   ]
  },
  {
   "cell_type": "code",
   "execution_count": 19,
   "metadata": {},
   "outputs": [
    {
     "data": {
      "image/png": "[encoded data removed]",
      "text/plain": [
       "<Figure size 432x288 with 1 Axes>"
      ]
     },
     "metadata": {
      "needs_background": "light"
     },
     "output_type": "display_data"
    }
   ],
   "source": [
    "from mlxtend.plotting import plot_decision_regions\n",
    "from sklearn.decomposition import PCA\n",
    "from mlxtend.plotting import plot_decision_regions\n",
    "\n",
    "pca = PCA(n_components = 2)\n",
    "x_train2 = pca.fit_transform(x_train)\n",
    "\n",
    "y_np = y_train.to_numpy()\n",
    "\n",
    "knn.fit(x_train2, y_train)\n",
    "plot_decision_regions(x_train2, y_np, clf=knn, legend=2)# Adding axes annotations\n",
    "\n",
    "plt.xlabel('X')\n",
    "plt.ylabel('Y')\n",
    "plt.title('Knn with K='+ str(n_neighbors))\n",
    "plt.show()"
   ]
  },
  {
   "cell_type": "code",
   "execution_count": null,
   "metadata": {},
   "outputs": [],
   "source": []
  },
  {
   "cell_type": "code",
   "execution_count": 40,
   "metadata": {},
   "outputs": [
    {
     "name": "stdout",
     "output_type": "stream",
     "text": [
      "0:00:00.196454\n",
      "Prediction error: 0.262\n",
      "Prediction accuracy: 0.738\n"
     ]
    }
   ],
   "source": [
    "#Adaboost\n",
    "from sklearn.ensemble import AdaBoostClassifier\n",
    "\n",
    "adaboost = AdaBoostClassifier(n_estimators=100, random_state=0)\n",
    "\n",
    "import time\n",
    "from datetime import timedelta\n",
    "\n",
    "start_time = time.monotonic()\n",
    "adaboost.fit(x_train, y_train)\n",
    "end_time = time.monotonic()\n",
    "print(timedelta(seconds=end_time - start_time))\n",
    "\n",
    "y_pred = adaboost.predict(x_test)\n",
    "y_delta = abs(y_test - y_pred)\n",
    "pred_error = np.sum(y_delta)/y_delta.size\n",
    "print(\"Prediction error:\", round(pred_error, 3))\n",
    "pred_accuracy = 1 - pred_error\n",
    "print(\"Prediction accuracy:\", round(pred_accuracy, 3))"
   ]
  },
  {
   "cell_type": "code",
   "execution_count": 46,
   "metadata": {},
   "outputs": [],
   "source": [
    "feature_val = list(adaboost.feature_importances_)\n",
    "\n",
    "feature_dic = {} \n",
    "for key in x_train.columns: \n",
    "    for value in feature_val: \n",
    "        feature_dic[key] = value \n",
    "        feature_val.remove(value)\n",
    "        break"
   ]
  },
  {
   "cell_type": "code",
   "execution_count": 54,
   "metadata": {},
   "outputs": [
    {
     "name": "stdout",
     "output_type": "stream",
     "text": [
      "feature      importance value\n",
      "---------  ------------------\n",
      "age                      0.19\n",
      "sex                      0.04\n",
      "cp                       0.04\n",
      "trestbps                 0.16\n",
      "chol                     0.14\n",
      "fbs                      0.02\n",
      "restecg                  0.01\n",
      "thalach                  0.16\n",
      "exang                    0.01\n",
      "oldpeak                  0.14\n",
      "slope                    0.04\n",
      "ca                       0.05\n"
     ]
    }
   ],
   "source": [
    "from tabulate import tabulate\n",
    "\n",
    "headers = ['feature', 'importance value']\n",
    "\n",
    "print(tabulate(feature_dic.items(), headers = headers))\n"
   ]
  }
 ],
 "metadata": {
  "kernelspec": {
   "display_name": "Python 3",
   "language": "python",
   "name": "python3"
  },
  "language_info": {
   "codemirror_mode": {
    "name": "ipython",
    "version": 3
   },
   "file_extension": ".py",
   "mimetype": "text/x-python",
   "name": "python",
   "nbconvert_exporter": "python",
   "pygments_lexer": "ipython3",
   "version": "3.7.6"
  }
 },
 "nbformat": 4,
 "nbformat_minor": 4
}
